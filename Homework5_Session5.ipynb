{
  "cells": [
    {
      "cell_type": "markdown",
      "metadata": {
        "id": "view-in-github",
        "colab_type": "text"
      },
      "source": [
        "<a href=\"https://colab.research.google.com/github/FarimaM/Machine-Learning-Course/blob/main/Homework5_Session5.ipynb\" target=\"_parent\"><img src=\"https://colab.research.google.com/assets/colab-badge.svg\" alt=\"Open In Colab\"/></a>"
      ]
    },
    {
      "cell_type": "markdown",
      "metadata": {
        "id": "HhHZSvSrO7I3"
      },
      "source": [
        "# 🎯 Mini-Project: DEAP Arousal Prediction"
      ]
    },
    {
      "cell_type": "code",
      "execution_count": null,
      "metadata": {
        "colab": {
          "base_uri": "https://localhost:8080/"
        },
        "id": "9rf9_neBNwd9",
        "outputId": "dd1051d8-3bcc-4e98-ad6f-f467e83cd99b"
      },
      "outputs": [
        {
          "name": "stdout",
          "output_type": "stream",
          "text": [
            "Mounted at /content/drive\n"
          ]
        }
      ],
      "source": [
        "from google.colab import drive\n",
        "drive.mount('/content/drive')"
      ]
    },
    {
      "cell_type": "code",
      "execution_count": null,
      "metadata": {
        "colab": {
          "base_uri": "https://localhost:8080/"
        },
        "id": "lFhZVe7QOQPI",
        "outputId": "8212909a-58d3-499f-a35c-fda433d57188"
      },
      "outputs": [
        {
          "name": "stdout",
          "output_type": "stream",
          "text": [
            "Dataset path set to: /content/drive/MyDrive/DEAP_Dataset\n"
          ]
        }
      ],
      "source": [
        "data_path = '/content/drive/MyDrive/DEAP_Dataset'\n",
        "print(\"Dataset path set to:\", data_path)"
      ]
    },
    {
      "cell_type": "markdown",
      "metadata": {
        "id": "9xl_GXDoPObn"
      },
      "source": [
        "## Part 1: Classification Task"
      ]
    },
    {
      "cell_type": "markdown",
      "metadata": {
        "id": "S2W-VDBWPl3p"
      },
      "source": [
        "DEAP Arousal Prediction with SVM"
      ]
    },
    {
      "cell_type": "code",
      "execution_count": null,
      "metadata": {
        "id": "stImPAdmPVqn"
      },
      "outputs": [],
      "source": [
        "## Setup :Import Libraries\n",
        "import numpy as np\n",
        "import pandas as pd\n",
        "from sklearn.model_selection import StratifiedKFold, cross_val_predict, KFold\n",
        "from sklearn.svm import SVC, SVR\n",
        "from sklearn.metrics import (\n",
        "    accuracy_score, precision_score, recall_score, f1_score,\n",
        "    classification_report, confusion_matrix,\n",
        "    mean_squared_error, mean_absolute_error, r2_score\n",
        ")\n",
        "import matplotlib.pyplot as plt\n",
        "import seaborn as sns"
      ]
    },
    {
      "cell_type": "code",
      "execution_count": null,
      "metadata": {
        "colab": {
          "base_uri": "https://localhost:8080/"
        },
        "id": "fJa-JVmUOhkA",
        "outputId": "1e153d83-5d2c-4dcc-c6a9-1d414f14321f"
      },
      "outputs": [
        {
          "name": "stdout",
          "output_type": "stream",
          "text": [
            "Loaded EEG data shape: (1280, 40, 8064)\n",
            "Loaded full label matrix shape: (1280, 4)\n",
            "Loaded arousal label vector shape: (1280,)\n"
          ]
        }
      ],
      "source": [
        "## Load the DEAP dataset (preprocessed EEG data and labels)\n",
        "import numpy as np\n",
        "import os\n",
        "\n",
        "# Create empty lists to store EEG data, all labels, and arousal ratings\n",
        "eeg_data_all = []\n",
        "labels_all = []\n",
        "arousal_labels = []\n",
        "\n",
        "# Loop through all 32 subject files\n",
        "for subject_id in range(1, 33):\n",
        "    file_name = os.path.join(data_path, f's{subject_id:02d}.dat')\n",
        "    with open(file_name, 'rb') as file:\n",
        "        subject = np.load(file, allow_pickle=True, encoding='latin1')\n",
        "        trials = subject['data']      # shape: (40, 40, 8064)\n",
        "        labels = subject['labels']    # shape: (40, 4)\n",
        "\n",
        "        for trial_index in range(40):\n",
        "            eeg_trial = trials[trial_index]           # EEG data for one trial\n",
        "            label_vector = labels[trial_index]        # [valence, arousal, dominance, liking]\n",
        "            arousal = label_vector[1]                 # Arousal rating (1 to 9)\n",
        "\n",
        "            eeg_data_all.append(eeg_trial)\n",
        "            labels_all.append(label_vector)\n",
        "            arousal_labels.append(arousal)\n",
        "\n",
        "# Convert lists to NumPy arrays\n",
        "eeg_data_all = np.array(eeg_data_all)       # shape: (1280, 40, 8064)\n",
        "labels_all = np.array(labels_all)           # shape: (1280, 4)\n",
        "arousal_labels = np.array(arousal_labels)   # shape: (1280,)\n",
        "\n",
        "# Print basic info\n",
        "print(\"Loaded EEG data shape:\", eeg_data_all.shape)\n",
        "print(\"Loaded full label matrix shape:\", labels_all.shape)\n",
        "print(\"Loaded arousal label vector shape:\", arousal_labels.shape)"
      ]
    },
    {
      "cell_type": "code",
      "execution_count": null,
      "metadata": {
        "colab": {
          "base_uri": "https://localhost:8080/"
        },
        "id": "cOtegrbxP3Re",
        "outputId": "1008da2c-9a7f-4552-b74b-63ae1ce221dc"
      },
      "outputs": [
        {
          "name": "stdout",
          "output_type": "stream",
          "text": [
            "Low Arousal: 226 samples\n",
            "Medium Arousal: 530 samples\n",
            "High Arousal: 524 samples\n"
          ]
        }
      ],
      "source": [
        "## Convert Arousal Ratings into 3 Classes (categories)\n",
        "def bin_arousal_3class(rating):\n",
        "    if rating <= 3:\n",
        "        return 0  # Low\n",
        "    elif rating <= 6:\n",
        "        return 1  # Medium\n",
        "    else:\n",
        "        return 2  # High\n",
        "\n",
        "# Apply to all arousal labels\n",
        "y_class = np.array([bin_arousal_3class(r) for r in arousal_labels]) ## arousal_labels is already loaded (shape: [1280,])\n",
        "\n",
        "# Show class distribution\n",
        "unique, counts = np.unique(y_class, return_counts=True)\n",
        "for label, count in zip(['Low', 'Medium', 'High'], counts):\n",
        "    print(f\"{label} Arousal: {count} samples\")"
      ]
    },
    {
      "cell_type": "code",
      "execution_count": null,
      "metadata": {
        "colab": {
          "base_uri": "https://localhost:8080/"
        },
        "id": "fa9b6949",
        "outputId": "9bab1e16-eddc-4e56-f2d6-ef1767a70470"
      },
      "outputs": [
        {
          "name": "stdout",
          "output_type": "stream",
          "text": [
            "Reshaped X_features shape: (1280, 322560)\n"
          ]
        }
      ],
      "source": [
        "## Reshape EEG data for classification\n",
        "# The shape of eeg_data_all is (1280, 40, 8064)\n",
        "# Reshape it to (1280, 40 * 8064) where each row is a trial and each column is a feature\n",
        "X_features = eeg_data_all.reshape(eeg_data_all.shape[0], -1)\n",
        "\n",
        "print(\"Reshaped X_features shape:\", X_features.shape)"
      ]
    },
    {
      "cell_type": "code",
      "execution_count": null,
      "metadata": {
        "id": "bWxllbuDXcCA"
      },
      "outputs": [],
      "source": [
        "## Train SVM Classifiers with Different Kernels\n",
        "def evaluate_svm_classification(X, y, kernel_type, C=1.0, gamma='scale', degree=3):\n",
        "    model = SVC(kernel=kernel_type, C=C, gamma=gamma, degree=degree)\n",
        "    skf = StratifiedKFold(n_splits=5, shuffle=True, random_state=42)\n",
        "    y_pred = cross_val_predict(model, X, y, cv=skf)\n",
        "\n",
        "    acc = accuracy_score(y, y_pred)\n",
        "    prec = precision_score(y, y_pred, average='macro')\n",
        "    rec = recall_score(y, y_pred, average='macro')\n",
        "    f1 = f1_score(y, y_pred, average='macro')\n",
        "\n",
        "    print(f\"\\n🔍 Kernel: {kernel_type.upper()}\")\n",
        "    print(f\"Accuracy: {acc:.3f}\")\n",
        "    print(f\"Precision: {prec:.3f}\")\n",
        "    print(f\"Recall: {rec:.3f}\")\n",
        "    print(f\"F1-score: {f1:.3f}\")\n",
        "    print(\"Classification Report:\")\n",
        "    print(classification_report(y, y_pred, target_names=['Low', 'Medium', 'High']))\n",
        "\n",
        "    return {\n",
        "        'accuracy': acc,\n",
        "        'precision': prec,\n",
        "        'recall': rec,\n",
        "        'f1': f1,\n",
        "        'predictions': y_pred\n",
        "    }"
      ]
    },
    {
      "cell_type": "code",
      "execution_count": null,
      "metadata": {
        "colab": {
          "background_save": true,
          "base_uri": "https://localhost:8080/"
        },
        "id": "CV7CtbMbXylC",
        "outputId": "f7144eb3-ebb2-4952-f7fe-b957917b761d"
      },
      "outputs": [
        {
          "name": "stdout",
          "output_type": "stream",
          "text": [
            "Training SVMs with different kernels...\n",
            "\n",
            "============================================================\n",
            "\n",
            "🔍 Kernel: LINEAR\n",
            "Accuracy: 0.368\n",
            "Precision: 0.350\n",
            "Recall: 0.351\n",
            "F1-score: 0.347\n",
            "Classification Report:\n",
            "              precision    recall  f1-score   support\n",
            "\n",
            "         Low       0.19      0.28      0.23       226\n",
            "      Medium       0.43      0.38      0.40       530\n",
            "        High       0.43      0.40      0.41       524\n",
            "\n",
            "    accuracy                           0.37      1280\n",
            "   macro avg       0.35      0.35      0.35      1280\n",
            "weighted avg       0.39      0.37      0.37      1280\n",
            "\n",
            "------------------------------------------------------------\n"
          ]
        }
      ],
      "source": [
        "## Run Classifiers with Different Kernels\n",
        "# Compare Kernels and Collect Results\n",
        "kernels = ['linear', 'rbf', 'poly']\n",
        "results = {}\n",
        "\n",
        "print(\"Training SVMs with different kernels...\\n\")\n",
        "print(\"=\"*60)\n",
        "\n",
        "for kernel in kernels:\n",
        "    if kernel == 'poly':\n",
        "        result = evaluate_svm_classification(X_features, y_class, kernel_type=kernel, degree=3)\n",
        "    else:\n",
        "        result = evaluate_svm_classification(X_features, y_class, kernel_type=kernel)\n",
        "\n",
        "    results[kernel] = result\n",
        "    print(\"-\"*60)"
      ]
    },
    {
      "cell_type": "code",
      "execution_count": null,
      "metadata": {
        "id": "q2YL-AoMbGcH"
      },
      "outputs": [],
      "source": [
        "## Visualize Accuracy Comparison\n",
        "plt.figure(figsize=(10, 6))\n",
        "kernel_names = [k.upper() for k in kernels]\n",
        "accuracies = [results[k]['accuracy'] for k in kernels]\n",
        "\n",
        "bars = plt.bar(kernel_names, accuracies, color=['skyblue', 'salmon', 'lightgreen'],\n",
        "               edgecolor='black', linewidth=2)\n",
        "plt.ylim([0, 1.0])\n",
        "plt.ylabel('Cross-Validated Accuracy', fontsize=12)\n",
        "plt.xlabel('Kernel Type', fontsize=12)\n",
        "plt.title('SVM Performance Comparison Across Kernels', fontsize=14, fontweight='bold')\n",
        "plt.grid(axis='y', alpha=0.3)\n",
        "\n",
        "# Add value labels\n",
        "for bar, acc in zip(bars, accuracies):\n",
        "    height = bar.get_height()\n",
        "    plt.text(bar.get_x() + bar.get_width()/2., height + 0.02,\n",
        "             f'{acc:.3f}', ha='center', va='bottom', fontsize=12, fontweight='bold')\n",
        "\n",
        "plt.tight_layout()\n",
        "plt.show()"
      ]
    },
    {
      "cell_type": "code",
      "execution_count": null,
      "metadata": {
        "id": "Dr4jYmzqcttU"
      },
      "outputs": [],
      "source": [
        "## Confusion Matrix for Best Kernel (e.g. RBF)\n",
        "def plot_confusion_matrix(y_true, y_pred, title):\n",
        "    cm = confusion_matrix(y_true, y_pred)\n",
        "    plt.figure(figsize=(6,5))\n",
        "    sns.heatmap(cm, annot=True, fmt='d', cmap='Blues',\n",
        "                xticklabels=['Low', 'Medium', 'High'],\n",
        "                yticklabels=['Low', 'Medium', 'High'])\n",
        "    plt.title(title)\n",
        "    plt.xlabel(\"Predicted\")\n",
        "    plt.ylabel(\"True\")\n",
        "    plt.show()\n",
        "\n",
        "plot_confusion_matrix(y_class, results['rbf']['predictions'], \"Confusion Matrix - SVM RBF Kernel\")"
      ]
    },
    {
      "cell_type": "markdown",
      "metadata": {
        "id": "WjcWv2bVdA6w"
      },
      "source": [
        "## Part 2: Regression Task"
      ]
    },
    {
      "cell_type": "code",
      "execution_count": null,
      "metadata": {
        "id": "8WIS9tcydKMw"
      },
      "outputs": [],
      "source": [
        "## Train SVR Models with Different Kernels\n",
        "def train_svr_model(X, y, kernel_type):\n",
        "    print(f\"\\nTraining SVR with {kernel_type} kernel...\")\n",
        "    model = SVR(kernel=kernel_type, C=1.0, gamma='scale')\n",
        "    kf = KFold(n_splits=5, shuffle=True, random_state=42)\n",
        "    y_pred = cross_val_predict(model, X, y, cv=kf)\n",
        "\n",
        "    rmse = np.sqrt(mean_squared_error(y, y_pred))\n",
        "    mae = mean_absolute_error(y, y_pred)\n",
        "    r2 = r2_score(y, y_pred)\n",
        "\n",
        "    print(f\"RMSE: {rmse:.3f}\")\n",
        "    print(f\"MAE: {mae:.3f}\")\n",
        "    print(f\"R² Score: {r2:.3f}\")\n",
        "\n",
        "    return y_pred"
      ]
    },
    {
      "cell_type": "code",
      "execution_count": null,
      "metadata": {
        "id": "L03LL0g0dOKB"
      },
      "outputs": [],
      "source": [
        "# Run SVR models\n",
        "y_pred_svr_linear = train_svr_model(X_features, arousal_labels, 'linear')\n",
        "y_pred_svr_rbf = train_svr_model(X_features, arousal_labels, 'rbf')\n",
        "y_pred_svr_poly = train_svr_model(X_features, arousal_labels, 'poly')"
      ]
    },
    {
      "cell_type": "code",
      "execution_count": null,
      "metadata": {
        "id": "DWdWS2ihdQ34"
      },
      "outputs": [],
      "source": [
        "## Scatter Plot for Best SVR (e.g. RBF)\n",
        "def plot_regression_results(y_true, y_pred, title):\n",
        "    plt.figure(figsize=(6,5))\n",
        "    plt.scatter(y_true, y_pred, alpha=0.5, color='teal')\n",
        "    plt.plot([1, 9], [1, 9], '--', color='gray')\n",
        "    plt.xlabel(\"Actual Arousal\")\n",
        "    plt.ylabel(\"Predicted Arousal\")\n",
        "    plt.title(title)\n",
        "    plt.grid(True)\n",
        "    plt.show()\n",
        "\n",
        "plot_regression_results(arousal_labels, y_pred_svr_rbf, \"SVR RBF Kernel - Predicted vs Actual\")"
      ]
    }
  ],
  "metadata": {
    "colab": {
      "provenance": [],
      "authorship_tag": "ABX9TyOHoP5XuW1FAF2P8Y1t5G4D",
      "include_colab_link": true
    },
    "kernelspec": {
      "display_name": "Python 3",
      "name": "python3"
    },
    "language_info": {
      "name": "python"
    }
  },
  "nbformat": 4,
  "nbformat_minor": 0
}