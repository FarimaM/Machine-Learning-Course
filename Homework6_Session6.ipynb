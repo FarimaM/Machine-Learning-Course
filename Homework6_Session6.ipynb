{
  "nbformat": 4,
  "nbformat_minor": 0,
  "metadata": {
    "colab": {
      "provenance": [],
      "authorship_tag": "ABX9TyNvIqmF+sM6fw1QBalnQjtF",
      "include_colab_link": true
    },
    "kernelspec": {
      "name": "python3",
      "display_name": "Python 3"
    },
    "language_info": {
      "name": "python"
    }
  },
  "cells": [
    {
      "cell_type": "markdown",
      "metadata": {
        "id": "view-in-github",
        "colab_type": "text"
      },
      "source": [
        "<a href=\"https://colab.research.google.com/github/FarimaM/Machine-Learning-Course/blob/main/Homework6_Session6.ipynb\" target=\"_parent\"><img src=\"https://colab.research.google.com/assets/colab-badge.svg\" alt=\"Open In Colab\"/></a>"
      ]
    },
    {
      "cell_type": "markdown",
      "source": [
        "# Mini-Project Assignment: DEAP Dataset Arousal Classification"
      ],
      "metadata": {
        "id": "R4WPGYYvlqNS"
      }
    },
    {
      "cell_type": "code",
      "source": [
        "from google.colab import drive\n",
        "drive.mount('/content/drive')"
      ],
      "metadata": {
        "colab": {
          "base_uri": "https://localhost:8080/"
        },
        "id": "Y_LRn5LVlfKW",
        "outputId": "e5273611-515a-4eaf-a473-8175630ff97b"
      },
      "execution_count": 3,
      "outputs": [
        {
          "output_type": "stream",
          "name": "stdout",
          "text": [
            "Mounted at /content/drive\n"
          ]
        }
      ]
    },
    {
      "cell_type": "code",
      "source": [
        "data_path = '/content/drive/MyDrive/DEAP_Dataset'\n",
        "print(\"Dataset path set to:\", data_path)"
      ],
      "metadata": {
        "colab": {
          "base_uri": "https://localhost:8080/"
        },
        "id": "3qrkwe7ZSt5Q",
        "outputId": "8e25b15f-7ceb-40fb-866f-7d4328afba12"
      },
      "execution_count": 5,
      "outputs": [
        {
          "output_type": "stream",
          "name": "stdout",
          "text": [
            "Dataset path set to: /content/drive/MyDrive/DEAP_Dataset\n"
          ]
        }
      ]
    },
    {
      "cell_type": "markdown",
      "source": [
        "Classify arousal into two classes:\n",
        "- **Low Arousal** (class 0): arousal rating ≤ 5\n",
        "- **High Arousal** (class 1): arousal rating > 5"
      ],
      "metadata": {
        "id": "uI6OIDUOlGLy"
      }
    },
    {
      "cell_type": "code",
      "source": [
        "## Load the DEAP dataset (preprocessed EEG data and labels)\n",
        "import numpy as np\n",
        "import os\n",
        "\n",
        "# Create empty lists to store EEG data, all labels, and arousal ratings\n",
        "eeg_data_all = []\n",
        "labels_all = []\n",
        "arousal_labels = []\n",
        "\n",
        "# Loop through all 10 subject files\n",
        "for subject_id in range(1, 11):\n",
        "    file_name = os.path.join(data_path, f's{subject_id:02d}.dat')\n",
        "    with open(file_name, 'rb') as file:\n",
        "        subject = np.load(file, allow_pickle=True, encoding='latin1')\n",
        "        trials = subject['data']\n",
        "        labels = subject['labels']\n",
        "\n",
        "        for trial_index in range(40):\n",
        "            eeg_trial = trials[trial_index]           # EEG data for one trial\n",
        "            label_vector = labels[trial_index]        # [valence, arousal, dominance, liking]\n",
        "            arousal = label_vector[1]                 # Arousal rating (1 to 9)\n",
        "\n",
        "            eeg_data_all.append(eeg_trial)\n",
        "            labels_all.append(label_vector)\n",
        "            arousal_labels.append(arousal)\n",
        "\n",
        "# Convert lists to NumPy arrays\n",
        "eeg_data_all = np.array(eeg_data_all)\n",
        "labels_all = np.array(labels_all)\n",
        "arousal_labels = np.array(arousal_labels)\n",
        "\n",
        "# Print basic info\n",
        "print(\"Loaded EEG data shape:\", eeg_data_all.shape)\n",
        "print(\"Loaded full label matrix shape:\", labels_all.shape)\n",
        "print(\"Loaded arousal label vector shape:\", arousal_labels.shape)"
      ],
      "metadata": {
        "colab": {
          "base_uri": "https://localhost:8080/"
        },
        "id": "V5H-a7cJlMaj",
        "outputId": "392cae88-7839-4a92-96ed-494576a138e3"
      },
      "execution_count": 6,
      "outputs": [
        {
          "output_type": "stream",
          "name": "stdout",
          "text": [
            "Loaded EEG data shape: (400, 40, 8064)\n",
            "Loaded full label matrix shape: (400, 4)\n",
            "Loaded arousal label vector shape: (400,)\n"
          ]
        }
      ]
    },
    {
      "cell_type": "code",
      "source": [
        "import numpy as np\n",
        "import pandas as pd\n",
        "from sklearn.model_selection import StratifiedKFold, cross_val_score\n",
        "from sklearn.metrics import precision_score, recall_score, f1_score, classification_report\n",
        "from sklearn.preprocessing import StandardScaler\n",
        "from sklearn.pipeline import Pipeline\n",
        "from sklearn.base import clone\n",
        "\n",
        "# Extract band power features\n",
        "from scipy.signal import welch\n",
        "\n",
        "def compute_bandpower_features(trial, fs=128):\n",
        "    bands = [(1, 4), (4, 8), (8, 13), (13, 30), (30, 45)]\n",
        "    features = []\n",
        "    for channel in trial:\n",
        "        f, Pxx = welch(channel, fs=fs)\n",
        "        for low, high in bands:\n",
        "            idx = (f >= low) & (f <= high)\n",
        "            features.append(np.sum(Pxx[idx]))\n",
        "    return features\n",
        "\n",
        "X = np.array([compute_bandpower_features(trial) for trial in eeg_data_all])\n",
        "\n",
        "## Classify arousal into two classes:\n",
        "#- **Low Arousal** (class 0): arousal rating ≤ 5\n",
        "#- **High Arousal** (class 1): arousal rating > 5\n",
        "\n",
        "y = np.array([0 if r <= 5 else 1 for r in arousal_labels])  # Binary labels\n",
        "\n",
        "print(\" Feature matrix shape:\", X.shape)\n",
        "print(\" Label distribution:\", np.bincount(y))"
      ],
      "metadata": {
        "colab": {
          "base_uri": "https://localhost:8080/"
        },
        "id": "gHm9d0IemC6N",
        "outputId": "0e43f9c2-447e-4f79-b9bc-0abccd491449"
      },
      "execution_count": 7,
      "outputs": [
        {
          "output_type": "stream",
          "name": "stdout",
          "text": [
            " Feature matrix shape: (400, 200)\n",
            " Label distribution: [198 202]\n"
          ]
        }
      ]
    },
    {
      "cell_type": "markdown",
      "source": [
        "1. **Compare resampling techniques**\n",
        "   - Implement at least THREE different resampling methods:\n",
        "    * Random oversampling\n",
        "     * Random undersampling\n",
        "     * SMOTE\n",
        "\n",
        "   - Use proper cross-validation (stratified K-fold) to evaluate each method\n",
        "   - Compare results using precision, recall, F1-score\n",
        "   - CRITICAL: Apply resampling ONLY to training folds, never to test data!"
      ],
      "metadata": {
        "id": "Zzee0zZVmSQm"
      }
    },
    {
      "cell_type": "code",
      "source": [
        "## Compare Resampling Techniques\n",
        "from imblearn.over_sampling import RandomOverSampler, SMOTE\n",
        "from imblearn.under_sampling import RandomUnderSampler\n",
        "from sklearn.linear_model import LogisticRegression\n",
        "\n",
        "resamplers = {\n",
        "    'Oversampling': RandomOverSampler(random_state=42),\n",
        "    'Undersampling': RandomUnderSampler(random_state=42),\n",
        "    'SMOTE': SMOTE(random_state=42)\n",
        "}\n",
        "\n",
        "skf = StratifiedKFold(n_splits=5, shuffle=True, random_state=42)\n",
        "base_model = LogisticRegression(max_iter=1000)\n",
        "\n",
        "results = {}\n",
        "\n",
        "for name, sampler in resamplers.items():\n",
        "    print(f\"\\n Resampling Method: {name}\")\n",
        "    precision_scores, recall_scores, f1_scores = [], [], []\n",
        "\n",
        "    for train_idx, test_idx in skf.split(X, y):\n",
        "        X_train, X_test = X[train_idx], X[test_idx]\n",
        "        y_train, y_test = y[train_idx], y[test_idx]\n",
        "\n",
        "        # Resample only training data\n",
        "        X_resampled, y_resampled = sampler.fit_resample(X_train, y_train)\n",
        "\n",
        "        # Train and evaluate\n",
        "        model = clone(base_model)\n",
        "        model.fit(X_resampled, y_resampled)\n",
        "        y_pred = model.predict(X_test)\n",
        "\n",
        "        precision_scores.append(precision_score(y_test, y_pred))\n",
        "        recall_scores.append(recall_score(y_test, y_pred))\n",
        "        f1_scores.append(f1_score(y_test, y_pred))\n",
        "\n",
        "    print(f\"Precision: {np.mean(precision_scores):.3f}\")\n",
        "    print(f\"Recall:    {np.mean(recall_scores):.3f}\")\n",
        "    print(f\"F1 Score:  {np.mean(f1_scores):.3f}\")\n",
        "\n",
        "    results[name] = {\n",
        "        'precision': np.mean(precision_scores),\n",
        "        'recall': np.mean(recall_scores),\n",
        "        'f1': np.mean(f1_scores)\n",
        "    }"
      ],
      "metadata": {
        "colab": {
          "base_uri": "https://localhost:8080/"
        },
        "id": "irQLw1gbmVXe",
        "outputId": "11fbbd82-8293-464a-bc90-ae8b5f4ccfb7"
      },
      "execution_count": 8,
      "outputs": [
        {
          "output_type": "stream",
          "name": "stdout",
          "text": [
            "\n",
            " Resampling Method: Oversampling\n"
          ]
        },
        {
          "output_type": "stream",
          "name": "stderr",
          "text": [
            "/usr/local/lib/python3.12/dist-packages/sklearn/linear_model/_logistic.py:465: ConvergenceWarning: lbfgs failed to converge (status=1):\n",
            "STOP: TOTAL NO. OF ITERATIONS REACHED LIMIT.\n",
            "\n",
            "Increase the number of iterations (max_iter) or scale the data as shown in:\n",
            "    https://scikit-learn.org/stable/modules/preprocessing.html\n",
            "Please also refer to the documentation for alternative solver options:\n",
            "    https://scikit-learn.org/stable/modules/linear_model.html#logistic-regression\n",
            "  n_iter_i = _check_optimize_result(\n",
            "/usr/local/lib/python3.12/dist-packages/sklearn/linear_model/_logistic.py:465: ConvergenceWarning: lbfgs failed to converge (status=1):\n",
            "STOP: TOTAL NO. OF ITERATIONS REACHED LIMIT.\n",
            "\n",
            "Increase the number of iterations (max_iter) or scale the data as shown in:\n",
            "    https://scikit-learn.org/stable/modules/preprocessing.html\n",
            "Please also refer to the documentation for alternative solver options:\n",
            "    https://scikit-learn.org/stable/modules/linear_model.html#logistic-regression\n",
            "  n_iter_i = _check_optimize_result(\n",
            "/usr/local/lib/python3.12/dist-packages/sklearn/linear_model/_logistic.py:465: ConvergenceWarning: lbfgs failed to converge (status=1):\n",
            "STOP: TOTAL NO. OF ITERATIONS REACHED LIMIT.\n",
            "\n",
            "Increase the number of iterations (max_iter) or scale the data as shown in:\n",
            "    https://scikit-learn.org/stable/modules/preprocessing.html\n",
            "Please also refer to the documentation for alternative solver options:\n",
            "    https://scikit-learn.org/stable/modules/linear_model.html#logistic-regression\n",
            "  n_iter_i = _check_optimize_result(\n",
            "/usr/local/lib/python3.12/dist-packages/sklearn/linear_model/_logistic.py:465: ConvergenceWarning: lbfgs failed to converge (status=1):\n",
            "STOP: TOTAL NO. OF ITERATIONS REACHED LIMIT.\n",
            "\n",
            "Increase the number of iterations (max_iter) or scale the data as shown in:\n",
            "    https://scikit-learn.org/stable/modules/preprocessing.html\n",
            "Please also refer to the documentation for alternative solver options:\n",
            "    https://scikit-learn.org/stable/modules/linear_model.html#logistic-regression\n",
            "  n_iter_i = _check_optimize_result(\n",
            "/usr/local/lib/python3.12/dist-packages/sklearn/linear_model/_logistic.py:465: ConvergenceWarning: lbfgs failed to converge (status=1):\n",
            "STOP: TOTAL NO. OF ITERATIONS REACHED LIMIT.\n",
            "\n",
            "Increase the number of iterations (max_iter) or scale the data as shown in:\n",
            "    https://scikit-learn.org/stable/modules/preprocessing.html\n",
            "Please also refer to the documentation for alternative solver options:\n",
            "    https://scikit-learn.org/stable/modules/linear_model.html#logistic-regression\n",
            "  n_iter_i = _check_optimize_result(\n"
          ]
        },
        {
          "output_type": "stream",
          "name": "stdout",
          "text": [
            "Precision: 0.594\n",
            "Recall:    0.569\n",
            "F1 Score:  0.579\n",
            "\n",
            " Resampling Method: Undersampling\n"
          ]
        },
        {
          "output_type": "stream",
          "name": "stderr",
          "text": [
            "/usr/local/lib/python3.12/dist-packages/sklearn/linear_model/_logistic.py:465: ConvergenceWarning: lbfgs failed to converge (status=1):\n",
            "STOP: TOTAL NO. OF ITERATIONS REACHED LIMIT.\n",
            "\n",
            "Increase the number of iterations (max_iter) or scale the data as shown in:\n",
            "    https://scikit-learn.org/stable/modules/preprocessing.html\n",
            "Please also refer to the documentation for alternative solver options:\n",
            "    https://scikit-learn.org/stable/modules/linear_model.html#logistic-regression\n",
            "  n_iter_i = _check_optimize_result(\n",
            "/usr/local/lib/python3.12/dist-packages/sklearn/linear_model/_logistic.py:465: ConvergenceWarning: lbfgs failed to converge (status=1):\n",
            "STOP: TOTAL NO. OF ITERATIONS REACHED LIMIT.\n",
            "\n",
            "Increase the number of iterations (max_iter) or scale the data as shown in:\n",
            "    https://scikit-learn.org/stable/modules/preprocessing.html\n",
            "Please also refer to the documentation for alternative solver options:\n",
            "    https://scikit-learn.org/stable/modules/linear_model.html#logistic-regression\n",
            "  n_iter_i = _check_optimize_result(\n",
            "/usr/local/lib/python3.12/dist-packages/sklearn/linear_model/_logistic.py:465: ConvergenceWarning: lbfgs failed to converge (status=1):\n",
            "STOP: TOTAL NO. OF ITERATIONS REACHED LIMIT.\n",
            "\n",
            "Increase the number of iterations (max_iter) or scale the data as shown in:\n",
            "    https://scikit-learn.org/stable/modules/preprocessing.html\n",
            "Please also refer to the documentation for alternative solver options:\n",
            "    https://scikit-learn.org/stable/modules/linear_model.html#logistic-regression\n",
            "  n_iter_i = _check_optimize_result(\n",
            "/usr/local/lib/python3.12/dist-packages/sklearn/linear_model/_logistic.py:465: ConvergenceWarning: lbfgs failed to converge (status=1):\n",
            "STOP: TOTAL NO. OF ITERATIONS REACHED LIMIT.\n",
            "\n",
            "Increase the number of iterations (max_iter) or scale the data as shown in:\n",
            "    https://scikit-learn.org/stable/modules/preprocessing.html\n",
            "Please also refer to the documentation for alternative solver options:\n",
            "    https://scikit-learn.org/stable/modules/linear_model.html#logistic-regression\n",
            "  n_iter_i = _check_optimize_result(\n",
            "/usr/local/lib/python3.12/dist-packages/sklearn/linear_model/_logistic.py:465: ConvergenceWarning: lbfgs failed to converge (status=1):\n",
            "STOP: TOTAL NO. OF ITERATIONS REACHED LIMIT.\n",
            "\n",
            "Increase the number of iterations (max_iter) or scale the data as shown in:\n",
            "    https://scikit-learn.org/stable/modules/preprocessing.html\n",
            "Please also refer to the documentation for alternative solver options:\n",
            "    https://scikit-learn.org/stable/modules/linear_model.html#logistic-regression\n",
            "  n_iter_i = _check_optimize_result(\n"
          ]
        },
        {
          "output_type": "stream",
          "name": "stdout",
          "text": [
            "Precision: 0.594\n",
            "Recall:    0.535\n",
            "F1 Score:  0.561\n",
            "\n",
            " Resampling Method: SMOTE\n"
          ]
        },
        {
          "output_type": "stream",
          "name": "stderr",
          "text": [
            "/usr/local/lib/python3.12/dist-packages/sklearn/linear_model/_logistic.py:465: ConvergenceWarning: lbfgs failed to converge (status=1):\n",
            "STOP: TOTAL NO. OF ITERATIONS REACHED LIMIT.\n",
            "\n",
            "Increase the number of iterations (max_iter) or scale the data as shown in:\n",
            "    https://scikit-learn.org/stable/modules/preprocessing.html\n",
            "Please also refer to the documentation for alternative solver options:\n",
            "    https://scikit-learn.org/stable/modules/linear_model.html#logistic-regression\n",
            "  n_iter_i = _check_optimize_result(\n",
            "/usr/local/lib/python3.12/dist-packages/sklearn/linear_model/_logistic.py:465: ConvergenceWarning: lbfgs failed to converge (status=1):\n",
            "STOP: TOTAL NO. OF ITERATIONS REACHED LIMIT.\n",
            "\n",
            "Increase the number of iterations (max_iter) or scale the data as shown in:\n",
            "    https://scikit-learn.org/stable/modules/preprocessing.html\n",
            "Please also refer to the documentation for alternative solver options:\n",
            "    https://scikit-learn.org/stable/modules/linear_model.html#logistic-regression\n",
            "  n_iter_i = _check_optimize_result(\n",
            "/usr/local/lib/python3.12/dist-packages/sklearn/linear_model/_logistic.py:465: ConvergenceWarning: lbfgs failed to converge (status=1):\n",
            "STOP: TOTAL NO. OF ITERATIONS REACHED LIMIT.\n",
            "\n",
            "Increase the number of iterations (max_iter) or scale the data as shown in:\n",
            "    https://scikit-learn.org/stable/modules/preprocessing.html\n",
            "Please also refer to the documentation for alternative solver options:\n",
            "    https://scikit-learn.org/stable/modules/linear_model.html#logistic-regression\n",
            "  n_iter_i = _check_optimize_result(\n"
          ]
        },
        {
          "output_type": "stream",
          "name": "stdout",
          "text": [
            "Precision: 0.582\n",
            "Recall:    0.544\n",
            "F1 Score:  0.560\n"
          ]
        },
        {
          "output_type": "stream",
          "name": "stderr",
          "text": [
            "/usr/local/lib/python3.12/dist-packages/sklearn/linear_model/_logistic.py:465: ConvergenceWarning: lbfgs failed to converge (status=1):\n",
            "STOP: TOTAL NO. OF ITERATIONS REACHED LIMIT.\n",
            "\n",
            "Increase the number of iterations (max_iter) or scale the data as shown in:\n",
            "    https://scikit-learn.org/stable/modules/preprocessing.html\n",
            "Please also refer to the documentation for alternative solver options:\n",
            "    https://scikit-learn.org/stable/modules/linear_model.html#logistic-regression\n",
            "  n_iter_i = _check_optimize_result(\n",
            "/usr/local/lib/python3.12/dist-packages/sklearn/linear_model/_logistic.py:465: ConvergenceWarning: lbfgs failed to converge (status=1):\n",
            "STOP: TOTAL NO. OF ITERATIONS REACHED LIMIT.\n",
            "\n",
            "Increase the number of iterations (max_iter) or scale the data as shown in:\n",
            "    https://scikit-learn.org/stable/modules/preprocessing.html\n",
            "Please also refer to the documentation for alternative solver options:\n",
            "    https://scikit-learn.org/stable/modules/linear_model.html#logistic-regression\n",
            "  n_iter_i = _check_optimize_result(\n"
          ]
        }
      ]
    },
    {
      "cell_type": "markdown",
      "source": [
        "2. **Test algorithm-level approaches**\n",
        "   - Implement class weighting for at least TWO different algorithms\n",
        "   - Compare performance with and without class weights\n",
        "   - Analyze the trade-off between precision and recall"
      ],
      "metadata": {
        "id": "AzA2jMFLmruU"
      }
    },
    {
      "cell_type": "code",
      "source": [
        "## Test Algorithm-Level Class Weighting\n",
        "from sklearn.ensemble import RandomForestClassifier\n",
        "from sklearn.svm import SVC\n",
        "\n",
        "models = {\n",
        "    'SVM (no weight)': SVC(class_weight=None),\n",
        "    'SVM (weighted)': SVC(class_weight='balanced'),\n",
        "    'RF (no weight)': RandomForestClassifier(class_weight=None),\n",
        "    'RF (weighted)': RandomForestClassifier(class_weight='balanced')\n",
        "}\n",
        "\n",
        "print(\"\\n Class Weighting Comparison\\n\")\n",
        "\n",
        "for name, model in models.items():\n",
        "    precision_scores, recall_scores, f1_scores = [], [], []\n",
        "\n",
        "    for train_idx, test_idx in skf.split(X, y):\n",
        "        X_train, X_test = X[train_idx], X[test_idx]\n",
        "        y_train, y_test = y[train_idx], y[test_idx]\n",
        "\n",
        "        model_clone = clone(model)\n",
        "        model_clone.fit(X_train, y_train)\n",
        "        y_pred = model_clone.predict(X_test)\n",
        "\n",
        "        precision_scores.append(precision_score(y_test, y_pred))\n",
        "        recall_scores.append(recall_score(y_test, y_pred))\n",
        "        f1_scores.append(f1_score(y_test, y_pred))\n",
        "\n",
        "    print(f\" {name}\")\n",
        "    print(f\"Precision: {np.mean(precision_scores):.3f}\")\n",
        "    print(f\"Recall:    {np.mean(recall_scores):.3f}\")\n",
        "    print(f\"F1 Score:  {np.mean(f1_scores):.3f}\")\n",
        "    print(\"-\" * 40)"
      ],
      "metadata": {
        "colab": {
          "base_uri": "https://localhost:8080/"
        },
        "id": "4mwNWAIFmukj",
        "outputId": "9035f8e4-5fb9-40cb-86fb-30b6a61a4f4b"
      },
      "execution_count": 9,
      "outputs": [
        {
          "output_type": "stream",
          "name": "stdout",
          "text": [
            "\n",
            " Class Weighting Comparison\n",
            "\n",
            " SVM (no weight)\n",
            "Precision: 0.563\n",
            "Recall:    0.569\n",
            "F1 Score:  0.565\n",
            "----------------------------------------\n",
            " SVM (weighted)\n",
            "Precision: 0.557\n",
            "Recall:    0.544\n",
            "F1 Score:  0.550\n",
            "----------------------------------------\n",
            " RF (no weight)\n",
            "Precision: 0.545\n",
            "Recall:    0.589\n",
            "F1 Score:  0.565\n",
            "----------------------------------------\n",
            " RF (weighted)\n",
            "Precision: 0.541\n",
            "Recall:    0.605\n",
            "F1 Score:  0.568\n",
            "----------------------------------------\n"
          ]
        }
      ]
    },
    {
      "cell_type": "markdown",
      "source": [
        "## Bonus Challenges (Optional)"
      ],
      "metadata": {
        "id": "hlIxL6A5mySi"
      }
    },
    {
      "cell_type": "markdown",
      "source": [
        "1. **Multi-class classification**: Divide arousal into 3 or more levels\n",
        "2. **Feature engineering**: Extract additional EEG features beyond band powers or use dimension reduction methods\n",
        "3. **Ensemble methods**: Combine multiple models for improved performance\n",
        "4. **Temporal analysis**: Investigate how arousal changes over time within trials\n",
        "5. **Subject-specific models**: Compare subject-independent vs subject-specific approaches"
      ],
      "metadata": {
        "id": "mxH88fP0mzZX"
      }
    },
    {
      "cell_type": "code",
      "source": [
        "## 1. Multi-Class Classification: Arousal into 3 Levels\n",
        "# Convert arousal ratings (1–9) into 3 classes\n",
        "def bin_arousal_3class(rating):\n",
        "    if rating <= 3:\n",
        "        return 0  # Low\n",
        "    elif rating <= 6:\n",
        "        return 1  # Medium\n",
        "    else:\n",
        "        return 2  # High\n",
        "\n",
        "y_multi = np.array([bin_arousal_3class(r) for r in arousal_labels])\n",
        "\n",
        "# Show class distribution\n",
        "unique, counts = np.unique(y_multi, return_counts=True)\n",
        "for label, count in zip(['Low', 'Medium', 'High'], counts):\n",
        "    print(f\"{label} Arousal: {count} samples\")"
      ],
      "metadata": {
        "colab": {
          "base_uri": "https://localhost:8080/"
        },
        "id": "8J2hn7O7nHzL",
        "outputId": "34d2717d-fda0-4dee-d405-a0692753cd18"
      },
      "execution_count": 10,
      "outputs": [
        {
          "output_type": "stream",
          "name": "stdout",
          "text": [
            "Low Arousal: 69 samples\n",
            "Medium Arousal: 186 samples\n",
            "High Arousal: 145 samples\n"
          ]
        }
      ]
    },
    {
      "cell_type": "code",
      "source": [
        "## 2. Feature Engineering: Additional Features + Dimensionality Reduction\n",
        "# Compute Band Power + Entropy Features\n",
        "from scipy.signal import welch\n",
        "from scipy.stats import entropy\n",
        "\n",
        "# Define EEG frequency bands\n",
        "band_ranges = {\n",
        "    'delta': (1, 4),\n",
        "    'theta': (4, 8),\n",
        "    'alpha': (8, 13),\n",
        "    'beta': (13, 30),\n",
        "    'gamma': (30, 45)\n",
        "}\n",
        "\n",
        "# Feature extraction function\n",
        "def extract_features_with_entropy(trial, fs=128):\n",
        "    band_features = []\n",
        "    entropy_features = []\n",
        "\n",
        "    for channel in trial:  # 40 channels\n",
        "        f, Pxx = welch(channel, fs=fs)\n",
        "\n",
        "        # Band power features\n",
        "        for band in band_ranges.values():\n",
        "            idx = (f >= band[0]) & (f <= band[1])\n",
        "            band_power = np.sum(Pxx[idx])\n",
        "            band_features.append(band_power)\n",
        "\n",
        "        # Normalize power spectrum for entropy\n",
        "        Pxx_norm = Pxx / np.sum(Pxx)\n",
        "        spectral_entropy = entropy(Pxx_norm)\n",
        "        entropy_features.append(spectral_entropy)\n",
        "\n",
        "    return band_features + entropy_features  # 200 band powers + 40 entropies = 240 features\n",
        "\n",
        "    ## This cell defined a function to extract additional features, combining band power with spectral entropy. This expands the feature set for subsequent analysis."
      ],
      "metadata": {
        "id": "hinNrgSqnO6Y"
      },
      "execution_count": 12,
      "outputs": []
    },
    {
      "cell_type": "code",
      "source": [
        "# Apply Feature Extraction to All Trials\n",
        "# Apply to all trials\n",
        "X_combined = np.array([extract_features_with_entropy(trial) for trial in eeg_data_all])\n",
        "print(\"Combined feature shape (band power + entropy):\", X_combined.shape)"
      ],
      "metadata": {
        "colab": {
          "base_uri": "https://localhost:8080/"
        },
        "id": "0CJU9BnOpiu6",
        "outputId": "11230981-43b4-4b63-b9e2-72e86108610e"
      },
      "execution_count": 13,
      "outputs": [
        {
          "output_type": "stream",
          "name": "stdout",
          "text": [
            "Combined feature shape (band power + entropy): (400, 240)\n"
          ]
        }
      ]
    },
    {
      "cell_type": "code",
      "source": [
        "# Normalize and Apply PCA\n",
        "from sklearn.preprocessing import StandardScaler\n",
        "from sklearn.decomposition import PCA\n",
        "\n",
        "# Normalize features\n",
        "scaler = StandardScaler()\n",
        "X_scaled = scaler.fit_transform(X_combined)\n",
        "\n",
        "# Apply PCA to reduce to 50 components\n",
        "pca = PCA(n_components=50)\n",
        "X_pca = pca.fit_transform(X_scaled)\n",
        "\n",
        "print(\" PCA-reduced feature shape:\", X_pca.shape)"
      ],
      "metadata": {
        "colab": {
          "base_uri": "https://localhost:8080/"
        },
        "id": "ogEwJH5tpsl6",
        "outputId": "7afffddf-93d7-4786-920c-ef5e16a36ec5"
      },
      "execution_count": 14,
      "outputs": [
        {
          "output_type": "stream",
          "name": "stdout",
          "text": [
            " PCA-reduced feature shape: (400, 50)\n"
          ]
        }
      ]
    },
    {
      "cell_type": "code",
      "source": [
        "## 3. Ensemble Methods: Combine multiple models for improved performance\n",
        "from sklearn.ensemble import RandomForestClassifier, GradientBoostingClassifier, VotingClassifier\n",
        "from sklearn.linear_model import LogisticRegression\n",
        "from sklearn.model_selection import cross_val_predict, StratifiedKFold\n",
        "from sklearn.metrics import accuracy_score, recall_score, f1_score\n",
        "\n",
        "# Use PCA-reduced features and 3-class labels\n",
        "X_input = X_pca\n",
        "y_input = y_multi\n",
        "\n",
        "# Define base models\n",
        "rf = RandomForestClassifier(random_state=42)\n",
        "gb = GradientBoostingClassifier(random_state=42)\n",
        "lr = LogisticRegression(max_iter=1000)\n",
        "\n",
        "# Combine models using soft voting\n",
        "ensemble_model = VotingClassifier(\n",
        "    estimators=[('rf', rf), ('gb', gb), ('lr', lr)],\n",
        "    voting='soft'\n",
        ")\n",
        "\n",
        "# Use Stratified K-Fold for consistent class distribution\n",
        "skf = StratifiedKFold(n_splits=5, shuffle=True, random_state=42)\n",
        "\n",
        "# Get cross-validated predictions\n",
        "y_pred = cross_val_predict(ensemble_model, X_input, y_input, cv=skf)\n",
        "\n",
        "# Compute metrics\n",
        "accuracy = accuracy_score(y_input, y_pred)\n",
        "recall = recall_score(y_input, y_pred, average='macro')\n",
        "f1 = f1_score(y_input, y_pred, average='macro')\n",
        "\n",
        "# Print results\n",
        "print(\" Ensemble Model Performance:\")\n",
        "print(f\"Accuracy:     {accuracy:.3f}\")\n",
        "print(f\"Recall (macro): {recall:.3f}\")\n",
        "print(f\"F1 Score (macro): {f1:.3f}\")"
      ],
      "metadata": {
        "colab": {
          "base_uri": "https://localhost:8080/"
        },
        "id": "DMwwVAURqBO2",
        "outputId": "fe4ca02a-9846-496e-dc43-38706a6d38d8"
      },
      "execution_count": 26,
      "outputs": [
        {
          "output_type": "stream",
          "name": "stdout",
          "text": [
            " Ensemble Model Performance:\n",
            "Accuracy:     0.490\n",
            "Recall (macro): 0.426\n",
            "F1 Score (macro): 0.430\n"
          ]
        }
      ]
    },
    {
      "cell_type": "markdown",
      "source": [
        "result: an ensemble model has been implemented (VotingClassifier with RandomForest, Gradient Boosting, and Logistic Regression) for the 3-class arousal classification using the PCA-reduced features. The cross-validated performance metrics show an accuracy of 0.490, macro recall of 0.426, and macro F1-score of 0.430."
      ],
      "metadata": {
        "id": "aIyRb69qyU0R"
      }
    },
    {
      "cell_type": "code",
      "source": [
        "## 4. Temporal Analysis: Arousal Over Time in a Trial\n",
        "import matplotlib.pyplot as plt\n",
        "\n",
        "# Select one trial and one EEG channel\n",
        "trial_index = 0\n",
        "channel_index = 0\n",
        "signal = eeg_data_all[trial_index][channel_index]  # shape: (8064,)\n",
        "time = np.linspace(0, len(signal)/128, len(signal))  # 128 Hz sampling rate\n",
        "\n",
        "# Plot full signal\n",
        "plt.figure(figsize=(12, 4))\n",
        "plt.plot(time, signal, color='darkblue')\n",
        "plt.title(\"EEG Signal Over Time (Trial 0, Channel 0)\")\n",
        "plt.xlabel(\"Time (seconds)\")\n",
        "plt.ylabel(\"Amplitude (µV)\")\n",
        "plt.grid(True)\n",
        "plt.show()\n",
        "\n",
        "# Optional: segment signal into 1-second windows and compute entropy over time\n",
        "from scipy.signal import welch\n",
        "from scipy.stats import entropy\n",
        "\n",
        "window_size = 128  # 1 second\n",
        "entropy_over_time = []\n",
        "\n",
        "for i in range(0, len(signal), window_size):\n",
        "    segment = signal[i:i+window_size]\n",
        "    if len(segment) == window_size:\n",
        "        f, Pxx = welch(segment, fs=128)\n",
        "        Pxx_norm = Pxx / np.sum(Pxx)\n",
        "        entropy_over_time.append(entropy(Pxx_norm))\n",
        "\n",
        "# Plot entropy over time\n",
        "plt.figure(figsize=(10, 4))\n",
        "plt.plot(np.arange(len(entropy_over_time)), entropy_over_time, marker='o', color='purple')\n",
        "plt.title(\"Spectral Entropy Over Time (Trial 0, Channel 0)\")\n",
        "plt.xlabel(\"Time Window (1s)\")\n",
        "plt.ylabel(\"Entropy\")\n",
        "plt.grid(True)\n",
        "plt.show()"
      ],
      "metadata": {
        "colab": {
          "base_uri": "https://localhost:8080/",
          "height": 838
        },
        "id": "EzO8E-ACqtNx",
        "outputId": "32b36eb7-5fcd-4b4c-b126-6c0d2611ce4e"
      },
      "execution_count": 27,
      "outputs": [
        {
          "output_type": "display_data",
          "data": {
            "text/plain": [
              "<Figure size 1200x400 with 1 Axes>"
            ],
            "image/png": "[encoded data removed]"
          },
          "metadata": {}
        },
        {
          "output_type": "stream",
          "name": "stderr",
          "text": [
            "/tmp/ipython-input-3557127149.py:29: UserWarning: nperseg=256 is greater than signal length max(len(x), len(y)) = 128, using nperseg = 128\n",
            "  f, Pxx = welch(segment, fs=128)\n"
          ]
        },
        {
          "output_type": "display_data",
          "data": {
            "text/plain": [
              "<Figure size 1000x400 with 1 Axes>"
            ],
            "image/png": "[encoded data removed]"
          },
          "metadata": {}
        }
      ]
    },
    {
      "cell_type": "markdown",
      "source": [
        "**result:** performing a temporal analysis of the EEG signal for a single trial and channel, plotting the raw signal over time and the spectral entropy over time in 1-second windows. The plots visualize the signal and how its complexity (as measured by entropy) changes during the trial.\n"
      ],
      "metadata": {
        "id": "ai24Yy6kx9Ru"
      }
    },
    {
      "cell_type": "code",
      "source": [
        "## Part 5: Subject-Specific vs Subject-Independent Models\n",
        "from sklearn.model_selection import train_test_split\n",
        "from sklearn.metrics import accuracy_score, precision_score, recall_score, f1_score\n",
        "\n",
        "# Choose one subject (e.g., subject 0)\n",
        "subject_id = 0\n",
        "start = subject_id * 40\n",
        "end = (subject_id + 1) * 40\n",
        "\n",
        "# Subject-specific data\n",
        "X_sub = np.array([extract_features_with_entropy(trial) for trial in eeg_data_all[start:end]])\n",
        "y_sub = np.array([bin_arousal_3class(r) for r in arousal_labels[start:end]])\n",
        "\n",
        "# Train/test split for subject-specific\n",
        "X_train_sub, X_test_sub, y_train_sub, y_test_sub = train_test_split(X_sub, y_sub, test_size=0.3, random_state=42)\n",
        "model_sub = RandomForestClassifier(random_state=42)\n",
        "model_sub.fit(X_train_sub, y_train_sub)\n",
        "y_pred_sub = model_sub.predict(X_test_sub)\n",
        "f1_sub = f1_score(y_test_sub, y_pred_sub, average='macro')\n",
        "print(\" Subject-Specific F1 Score:\", f1_sub)\n",
        "\n",
        "# Subject-independent: train on all other subjects\n",
        "X_all = np.array([extract_features_with_entropy(trial) for trial in eeg_data_all])\n",
        "y_all = np.array([bin_arousal_3class(r) for r in arousal_labels])\n",
        "\n",
        "X_train_ind = np.delete(X_all, slice(start, end), axis=0)\n",
        "y_train_ind = np.delete(y_all, slice(start, end), axis=0)\n",
        "X_test_ind = X_all[start:end]\n",
        "y_test_ind = y_all[start:end]\n",
        "\n",
        "model_ind = RandomForestClassifier(random_state=42)\n",
        "model_ind.fit(X_train_ind, y_train_ind)\n",
        "y_pred_ind = model_ind.predict(X_test_ind)\n",
        "f1_ind = f1_score(y_test_ind, y_pred_ind, average='macro')\n",
        "print(\" Subject-Independent F1 Score:\", f1_ind)\n",
        "\n",
        "\n",
        "print(\"\\n Subject-Independent Model Performance:\")\n",
        "print(\"Accuracy:\", accuracy_score(y_test_ind, y_pred_ind))\n",
        "print(\"Precision:\", precision_score(y_test_ind, y_pred_ind, average='macro'))\n",
        "print(\"Recall:\", recall_score(y_test_ind, y_pred_ind, average='macro'))\n",
        "print(\"F1 Score:\", f1_score(y_test_ind, y_pred_ind, average='macro'))"
      ],
      "metadata": {
        "colab": {
          "base_uri": "https://localhost:8080/"
        },
        "id": "aqGM9SOAtdxo",
        "outputId": "1cbe778b-320a-4faf-b2af-987fc9bec3fb"
      },
      "execution_count": 30,
      "outputs": [
        {
          "output_type": "stream",
          "name": "stdout",
          "text": [
            " Subject-Specific F1 Score: 0.20833333333333334\n",
            " Subject-Independent F1 Score: 0.12244897959183675\n",
            "\n",
            " Subject-Independent Model Performance:\n",
            "Accuracy: 0.225\n",
            "Precision: 0.075\n",
            "Recall: 0.3333333333333333\n",
            "F1 Score: 0.12244897959183675\n"
          ]
        },
        {
          "output_type": "stream",
          "name": "stderr",
          "text": [
            "/usr/local/lib/python3.12/dist-packages/sklearn/metrics/_classification.py:1565: UndefinedMetricWarning: Precision is ill-defined and being set to 0.0 in labels with no predicted samples. Use `zero_division` parameter to control this behavior.\n",
            "  _warn_prf(average, modifier, f\"{metric.capitalize()} is\", len(result))\n"
          ]
        }
      ]
    },
    {
      "cell_type": "markdown",
      "source": [
        "**result:** subject-specific and subject-independent modeling approaches have been compared using a RandomForest classifier for the 3-class arousal classification. It trained a model on a single subject's data and evaluated it on that subject's test data, and trained another model on data from all other subjects and evaluated it on the held-out subject's data. The results show that the subject-specific model achieved a higher F1-score (0.208) compared to the subject-independent model (0.122) for the chosen subject, suggesting that individual differences in EEG signals might be significant."
      ],
      "metadata": {
        "id": "7OEKAfgJw7k1"
      }
    }
  ]
}